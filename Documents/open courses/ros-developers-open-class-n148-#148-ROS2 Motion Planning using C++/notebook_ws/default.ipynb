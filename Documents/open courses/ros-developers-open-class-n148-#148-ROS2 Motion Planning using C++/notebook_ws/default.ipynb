{
 "cells": [
  {
   "cell_type": "markdown",
   "metadata": {
    "colab_type": "text",
    "id": "VKVmOzupi70R"
   },
   "source": [
    "<img src=\"images/logos/The-Construct-logo-new.png\" width=\"700\">"
   ]
  },
  {
   "cell_type": "markdown",
   "metadata": {},
   "source": [
    "# PRESENTS..."
   ]
  },
  {
   "cell_type": "markdown",
   "metadata": {},
   "source": [
    "# ROS Developers Open Class n.148"
   ]
  },
  {
   "cell_type": "markdown",
   "metadata": {},
   "source": [
    "<img src=\"images/Open-Class-148.jpg\" width=\"650\" />"
   ]
  },
  {
   "cell_type": "markdown",
   "metadata": {},
   "source": [
    "## How to Launch the Simulation"
   ]
  },
  {
   "cell_type": "markdown",
   "metadata": {},
   "source": [
    "To start the simulation, first we'll need to source our workspace:\n",
    "\n",
    "- Open a terminal window by clicking on the shell icon on the bottom left side of your screen:\n",
    "\n",
    "<img src=\"images/shell-superapp.png\" width=\"450\" />\n",
    "\n",
    "- Copy and paste the following terminal commands in your shell:\n"
   ]
  },
  {
   "cell_type": "markdown",
   "metadata": {},
   "source": [
    "<span class=\"badge badge-pill badge-primary\">\n",
    "    <i class=\"fa fa-play\"></i>\n",
    "    &nbsp;\n",
    "    Execute in Shell\n",
    "</span>"
   ]
  },
  {
   "cell_type": "code",
   "execution_count": null,
   "metadata": {},
   "outputs": [],
   "source": [
    "source ~/simulation_ws/devel/setup.bash\n",
    "roslaunch ur_e_gazebo ur3e.launch"
   ]
  },
  {
   "cell_type": "markdown",
   "metadata": {},
   "source": [
    "And that's it! You should be able to see the simulation and control everything as if it was the real robot if you go to the Gazebo button in the bottom left side of your screen:\n",
    "\n",
    "<img src=\"images/gazebo-icon.png\" width=\"100\" />\n",
    "\n",
    "\n",
    "**Wait around 30 seconds maximum** for the simulaion to start and you should see this simulation now:\n",
    "\n",
    "\n",
    "<img src=\"images/ur3e-sim.png\" width=\"800\" />"
   ]
  },
  {
   "cell_type": "markdown",
   "metadata": {},
   "source": [
    "## Requirements"
   ]
  },
  {
   "cell_type": "markdown",
   "metadata": {},
   "source": [
    "<a href=\"https://app.theconstructsim.com/Course/81\" target=\"_blank\">ROS2 Manipulation Basics</a>"
   ]
  },
  {
   "cell_type": "markdown",
   "metadata": {},
   "source": [
    "<a href=\"https://app.theconstructsim.com/#/Course/73\" target=\"_blank\"><img src=\"images/ros2-manip.png\" width=\"\" /></a>"
   ]
  },
  {
   "cell_type": "markdown",
   "metadata": {
    "colab_type": "text",
    "id": "VKVmOzupi70R"
   },
   "source": [
    "<div class=\"jumbotron m-0\">\n",
    "    <hr />\n",
    "    <h1 class=\"text-center\">\n",
    "        <span class=\"text-primary\">\n",
    "            ROS2 Motion Planning with C++\n",
    "        </span>\n",
    "    </h1>\n",
    "    <hr />\n",
    "</div>"
   ]
  },
  {
   "cell_type": "markdown",
   "metadata": {},
   "source": [
    "## Test Moveit2"
   ]
  },
  {
   "cell_type": "markdown",
   "metadata": {},
   "source": [
    "Before actually starting with the class, let's check that we can run Moveit2 correctly. For this, you'll need 3 steps:"
   ]
  },
  {
   "cell_type": "markdown",
   "metadata": {},
   "source": [
    "### 1. Launch the parameter bridge"
   ]
  },
  {
   "cell_type": "markdown",
   "metadata": {},
   "source": [
    "<span class=\"badge badge-pill badge-primary\">\n",
    "    <i class=\"fa fa-play\"></i>\n",
    "    &nbsp;\n",
    "    Execute in Shell\n",
    "</span>"
   ]
  },
  {
   "cell_type": "code",
   "execution_count": null,
   "metadata": {},
   "outputs": [],
   "source": [
    "source ~/catkin_ws/devel/setup.bash\n",
    "roslaunch load_params load_params.launch\n",
    "source /home/simulations/ros2_sims_ws/install/setup.bash\n",
    "ros2 run ros1_bridge parameter_bridge __name:=parameter_bridge"
   ]
  },
  {
   "cell_type": "markdown",
   "metadata": {},
   "source": [
    "### 2. Launch the action bridge"
   ]
  },
  {
   "cell_type": "markdown",
   "metadata": {},
   "source": [
    "<span class=\"badge badge-pill badge-primary\">\n",
    "    <i class=\"fa fa-play\"></i>\n",
    "    &nbsp;\n",
    "    Execute in Shell\n",
    "</span>"
   ]
  },
  {
   "cell_type": "code",
   "execution_count": null,
   "metadata": {},
   "outputs": [],
   "source": [
    "source /opt/ros/noetic/setup.bash\n",
    "source /home/simulations/ros2_sims_ws/install/setup.bash\n",
    "ros2 launch start_bridge start_bridge.launch.py"
   ]
  },
  {
   "cell_type": "markdown",
   "metadata": {},
   "source": [
    "### 3. Launch Moveit2"
   ]
  },
  {
   "cell_type": "markdown",
   "metadata": {},
   "source": [
    "<span class=\"badge badge-pill badge-primary\">\n",
    "    <i class=\"fa fa-play\"></i>\n",
    "    &nbsp;\n",
    "    Execute in Shell\n",
    "</span>"
   ]
  },
  {
   "cell_type": "code",
   "execution_count": null,
   "metadata": {},
   "outputs": [],
   "source": [
    "source ~/ros2_ws/install/setup.bash\n",
    "ros2 launch my_moveit2_config my_planning_execution.launch.py launch_rviz:=true"
   ]
  },
  {
   "cell_type": "markdown",
   "metadata": {},
   "source": [
    "## Move Group C++ Interface"
   ]
  },
  {
   "cell_type": "markdown",
   "metadata": {},
   "source": [
    "In the previous section, you could plan and execute trajectories for your robot using the MoveIt2 RVIZ environment. But, this is not the typical case.\n",
    "\n",
    "Usually, you will want to move your robot with your own scripts. And this is exactly what you are going to do now! However, you will use C++ to control the robot."
   ]
  },
  {
   "cell_type": "markdown",
   "metadata": {},
   "source": [
    "### Planning a trajectory"
   ]
  },
  {
   "cell_type": "markdown",
   "metadata": {},
   "source": [
    "As you've seen in the previous example, **there is a difference between planning and executing a trajectory**. So, in this first part, you will see how to plan a trajectory with C++. For that, complete the next exercise."
   ]
  },
  {
   "cell_type": "markdown",
   "metadata": {},
   "source": [
    "<div class=\"bg-success text-center\">\n",
    "    - Exercise 1 -\n",
    "</div>"
   ]
  },
  {
   "cell_type": "markdown",
   "metadata": {},
   "source": [
    "Let's have a quick look at the code that you will be executing:"
   ]
  },
  {
   "cell_type": "markdown",
   "metadata": {},
   "source": [
    "<span class=\"badge badge-pill badge-primary\">\n",
    "    <i class=\"fa fa-file\"></i>\n",
    "    &nbsp;\n",
    "    test_trajectory.cpp\n",
    "</span>"
   ]
  },
  {
   "cell_type": "code",
   "execution_count": null,
   "metadata": {},
   "outputs": [],
   "source": [
    "#include <moveit/move_group_interface/move_group_interface.h>\n",
    "#include <moveit/planning_scene_interface/planning_scene_interface.h>\n",
    "\n",
    "#include <moveit_msgs/msg/display_robot_state.hpp>\n",
    "#include <moveit_msgs/msg/display_trajectory.hpp>\n",
    "\n",
    "#include <moveit_msgs/msg/attached_collision_object.hpp>\n",
    "#include <moveit_msgs/msg/collision_object.hpp>\n",
    "\n",
    "#include \"rclcpp/rclcpp.hpp\"\n",
    "#include <string>\n",
    "\n",
    "static const rclcpp::Logger LOGGER = rclcpp::get_logger(\"move_group_demo\");\n",
    "static const std::string PLANNING_GROUP_ARM = \"ur_manipulator\";\n",
    "\n",
    "class TestTrajectory : public rclcpp::Node {\n",
    "public:\n",
    "  TestTrajectory(std::shared_ptr<rclcpp::Node> move_group_node)\n",
    "      : Node(\"test_trajectory\"),\n",
    "        move_group_arm(move_group_node, PLANNING_GROUP_ARM),\n",
    "        joint_model_group_arm(\n",
    "            move_group_arm.getCurrentState()->getJointModelGroup(\n",
    "                PLANNING_GROUP_ARM)) {\n",
    "\n",
    "    this->timer_ =\n",
    "        this->create_wall_timer(std::chrono::milliseconds(500),\n",
    "                                std::bind(&TestTrajectory::timer_callback, this));\n",
    "\n",
    "  } // end of constructor\n",
    "\n",
    "  // Getting Basic Information\n",
    "  void get_info() {\n",
    "\n",
    "    RCLCPP_INFO(LOGGER, \"Planning frame: %s\", move_group_arm.getPlanningFrame().c_str());\n",
    "    RCLCPP_INFO(LOGGER, \"End-effector link: %s\", move_group_arm.getEndEffectorLink().c_str());\n",
    "    RCLCPP_INFO(LOGGER, \"Available Planning Groups:\");\n",
    "    std::copy(move_group_arm.getJointModelGroupNames().begin(), move_group_arm.getJointModelGroupNames().end(),\n",
    "                std::ostream_iterator<std::string>(std::cout, \", \"));\n",
    "  \n",
    "  }\n",
    "\n",
    "  void current_state() {\n",
    "    RCLCPP_INFO(LOGGER, \"Get Robot Current State\");\n",
    "\n",
    "    current_state_arm = move_group_arm.getCurrentState(10);\n",
    "\n",
    "    current_state_arm->copyJointGroupPositions(this->joint_model_group_arm,\n",
    "                                               this->joint_group_positions_arm);\n",
    "  }\n",
    "\n",
    "  void plan_arm_joint_space() {\n",
    "\n",
    "    RCLCPP_INFO(LOGGER, \"Planning to Joint Space\");\n",
    "\n",
    "    //joint_group_positions_arm[0] = 0.00;  // Shoulder Pan\n",
    "    joint_group_positions_arm[1] = -2.50;  // Shoulder Lift\n",
    "    joint_group_positions_arm[2] = 1.50;  // Elbow\n",
    "    joint_group_positions_arm[3] = -1.50;  // Wrist 1\n",
    "    joint_group_positions_arm[4] = -1.55;  // Wrist 2\n",
    "    //joint_group_positions_arm[5] = 0.00;  // Wrist 3\n",
    "\n",
    "    move_group_arm.setJointValueTarget(joint_group_positions_arm);\n",
    "\n",
    "    bool success_arm = (move_group_arm.plan(my_plan_arm) ==\n",
    "                        moveit::planning_interface::MoveItErrorCode::SUCCESS);\n",
    "\n",
    "  }\n",
    "\n",
    "  // Timer Callback function\n",
    "  void timer_callback() {\n",
    "\n",
    "    this->timer_->cancel();\n",
    "    get_info();\n",
    "    current_state();\n",
    "    plan_arm_joint_space();\n",
    "  }\n",
    "\n",
    "private:\n",
    "  moveit::planning_interface::PlanningSceneInterface planning_scene_interface;\n",
    "  std::vector<double> joint_group_positions_arm;\n",
    "  moveit::planning_interface::MoveGroupInterface::Plan my_plan_arm;\n",
    "  rclcpp::TimerBase::SharedPtr timer_;\n",
    "\n",
    "  moveit::planning_interface::MoveGroupInterface move_group_arm;\n",
    "\n",
    "  const moveit::core::JointModelGroup *joint_model_group_arm;\n",
    "\n",
    "  moveit::core::RobotStatePtr current_state_arm;\n",
    "\n",
    "}; // End of Class\n",
    "\n",
    "int main(int argc, char **argv) {\n",
    "  rclcpp::init(argc, argv);\n",
    "  rclcpp::NodeOptions node_options;\n",
    "  node_options.automatically_declare_parameters_from_overrides(true);\n",
    "  auto move_group_node =\n",
    "      rclcpp::Node::make_shared(\"move_group_demo\", node_options);\n",
    "\n",
    "  rclcpp::executors::SingleThreadedExecutor planner_executor;\n",
    "  std::shared_ptr<TestTrajectory> planner_node =\n",
    "      std::make_shared<TestTrajectory>(move_group_node);\n",
    "  planner_executor.add_node(planner_node);\n",
    "  planner_executor.spin();\n",
    "\n",
    "  rclcpp::shutdown();\n",
    "  return 0;\n",
    "}"
   ]
  },
  {
   "cell_type": "markdown",
   "metadata": {},
   "source": [
    "That's great! But, how does this code work? What does each part mean? Let's break it down into smaller pieces."
   ]
  },
  {
   "cell_type": "markdown",
   "metadata": {},
   "source": [
    "First of all we define a couple of static variables for the **logger** system and for the **planning group of our arm**, which is named **`ur_manipulator`**:"
   ]
  },
  {
   "cell_type": "code",
   "execution_count": null,
   "metadata": {},
   "outputs": [],
   "source": [
    "static const rclcpp::Logger LOGGER = rclcpp::get_logger(\"move_group_demo\");\n",
    "static const std::string PLANNING_GROUP_ARM = \"ur_manipulator\";"
   ]
  },
  {
   "cell_type": "markdown",
   "metadata": {},
   "source": [
    "We define a class named **`TestTrajectory`**, which inherits from **`Node`**:"
   ]
  },
  {
   "cell_type": "code",
   "execution_count": null,
   "metadata": {},
   "outputs": [],
   "source": [
    "class TestTrajectory : public rclcpp::Node"
   ]
  },
  {
   "cell_type": "markdown",
   "metadata": {},
   "source": [
    "Next we find the constructor of the class:"
   ]
  },
  {
   "cell_type": "code",
   "execution_count": null,
   "metadata": {},
   "outputs": [],
   "source": [
    "TestTrajectory(std::shared_ptr<rclcpp::Node> move_group_node)\n",
    "  : Node(\"pick_and_place\"),\n",
    "    move_group_arm(move_group_node, PLANNING_GROUP_ARM),\n",
    "    joint_model_group_arm(\n",
    "        move_group_arm.getCurrentState()->getJointModelGroup(\n",
    "            PLANNING_GROUP_ARM)) {\n",
    "\n",
    "this->timer_ =\n",
    "    this->create_wall_timer(std::chrono::milliseconds(500),\n",
    "                            std::bind(&TestTrajectory::timer_callback, this));\n",
    "\n",
    "}"
   ]
  },
  {
   "cell_type": "markdown",
   "metadata": {},
   "source": [
    "As you can see, we need to initialize in the constructor 3 things:\n",
    "\n",
    "* A **`Node`** object.\n",
    "\n",
    "\n",
    "* A **`MoveGroupInterface`** object, in this case **move_group_arm**.\n",
    "\n",
    "\n",
    "* A **`JointModelGroup`** object, in this case **joint_model_group_arm**."
   ]
  },
  {
   "cell_type": "markdown",
   "metadata": {},
   "source": [
    "Let's pay special attention to the `MoveGroupInterface`, which allows you to communicate with MoveIt2. It can be set up using just the name of the planning group you would like to control and plan for.\n",
    "\n",
    "Finally, also inside the constructor, we create a Timer object **`timer_`**.\n",
    "\n",
    "Next we find the **`get_info()`** method:"
   ]
  },
  {
   "cell_type": "code",
   "execution_count": null,
   "metadata": {},
   "outputs": [],
   "source": [
    "void get_info() {\n",
    "\n",
    "    RCLCPP_INFO(LOGGER, \"Planning frame: %s\", move_group_arm.getPlanningFrame().c_str());\n",
    "    RCLCPP_INFO(LOGGER, \"End-effector link: %s\", move_group_arm.getEndEffectorLink().c_str());\n",
    "    RCLCPP_INFO(LOGGER, \"Available Planning Groups:\");\n",
    "    std::copy(move_group_arm.getJointModelGroupNames().begin(), move_group_arm.getJointModelGroupNames().end(),\n",
    "                std::ostream_iterator<std::string>(std::cout, \", \"));\n",
    "\n",
    "}"
   ]
  },
  {
   "cell_type": "markdown",
   "metadata": {},
   "source": [
    "Here we get some data about our MoveIt2 setup. This is not mandatory for the planning, but it can be very useful to make sure everything is configured as it should. Specifically, you are getting data about:\n",
    "\n",
    "* The name of the frame in which the robot is planning\n",
    "\n",
    "* The current end-effector link\n",
    "\n",
    "* The available Planning Groups"
   ]
  },
  {
   "cell_type": "markdown",
   "metadata": {},
   "source": [
    "Next we find the **`current_state()`** method:"
   ]
  },
  {
   "cell_type": "code",
   "execution_count": null,
   "metadata": {},
   "outputs": [],
   "source": [
    "void current_state() {\n",
    "    RCLCPP_INFO(LOGGER, \"Get Robot Current State\");\n",
    "\n",
    "    current_state_arm = move_group_arm.getCurrentState(10);\n",
    "\n",
    "    current_state_arm->copyJointGroupPositions(this->joint_model_group_arm,\n",
    "                                               this->joint_group_positions_arm);\n",
    "}"
   ]
  },
  {
   "cell_type": "markdown",
   "metadata": {},
   "source": [
    "What we are doing here is to get the current state of the robot. Then we copy the values of the variable **`joint_model_group_arm`** (which contains the position value of each joint) into the variable **`joint_group_positions_arm`**."
   ]
  },
  {
   "cell_type": "markdown",
   "metadata": {},
   "source": [
    "Next we find the **`plan_arm_joint_space()`** method:"
   ]
  },
  {
   "cell_type": "code",
   "execution_count": null,
   "metadata": {},
   "outputs": [],
   "source": [
    "void plan_arm_joint_space() {\n",
    "\n",
    "    RCLCPP_INFO(LOGGER, \"Planning to Joint Space\");\n",
    "\n",
    "    //joint_group_positions_arm[0] = 0.00;  // Shoulder Pan\n",
    "    joint_group_positions_arm[1] = -2.50;  // Shoulder Lift\n",
    "    joint_group_positions_arm[2] = 1.50;  // Elbow\n",
    "    joint_group_positions_arm[3] = -1.50;  // Wrist 1\n",
    "    joint_group_positions_arm[4] = -1.55;  // Wrist 2\n",
    "    //joint_group_positions_arm[5] = 0.00;  // Wrist 3\n",
    "\n",
    "    move_group_arm.setJointValueTarget(joint_group_positions_arm);\n",
    "\n",
    "    bool success_arm = (move_group_arm.plan(my_plan_arm) ==\n",
    "                        moveit::planning_interface::MoveItErrorCode::SUCCESS);\n",
    "\n",
    "}"
   ]
  },
  {
   "cell_type": "markdown",
   "metadata": {},
   "source": [
    "Here we are doing a couple of important things:\n",
    "\n",
    "* First, we set the desired position values of the joints. In this case, we are setting the joint values of the **home** position.\n",
    "\n",
    "\n",
    "* Second, we set these new values as the new target using the **`setJointValueTarget`** method.\n",
    "\n",
    "\n",
    "* Finally, we call the **`plan()`** method of the move group interface to plan the trajectory."
   ]
  },
  {
   "cell_type": "markdown",
   "metadata": {},
   "source": [
    "Finally we have the **`timmer_callback()`** method:"
   ]
  },
  {
   "cell_type": "code",
   "execution_count": null,
   "metadata": {},
   "outputs": [],
   "source": [
    "void timer_callback() {\n",
    "\n",
    "    this->timer_->cancel();\n",
    "    get_info();\n",
    "    current_state();\n",
    "    plan_arm_joint_space();\n",
    "  }"
   ]
  },
  {
   "cell_type": "markdown",
   "metadata": {},
   "source": [
    "Here we just call the different methods previously defined to perform the planning pipeline. Also, we cancel the timer so that it's only executed 1 time.\n",
    "\n",
    "At the end of the class you can find the definition of all the different variables that are needed:"
   ]
  },
  {
   "cell_type": "code",
   "execution_count": null,
   "metadata": {},
   "outputs": [],
   "source": [
    "private:\n",
    "  moveit::planning_interface::PlanningSceneInterface planning_scene_interface;\n",
    "  std::vector<double> joint_group_positions_arm;\n",
    "  moveit::planning_interface::MoveGroupInterface::Plan my_plan_arm;\n",
    "  rclcpp::TimerBase::SharedPtr timer_;\n",
    "\n",
    "  moveit::planning_interface::MoveGroupInterface move_group_arm;\n",
    "\n",
    "  const moveit::core::JointModelGroup *joint_model_group_arm;\n",
    "\n",
    "  moveit::core::RobotStatePtr current_state_arm;\n",
    "\n",
    "};"
   ]
  },
  {
   "cell_type": "markdown",
   "metadata": {},
   "source": [
    "Finally we have the **`main()`** function:"
   ]
  },
  {
   "cell_type": "code",
   "execution_count": null,
   "metadata": {},
   "outputs": [],
   "source": [
    "int main(int argc, char **argv) {\n",
    "  rclcpp::init(argc, argv);\n",
    "  rclcpp::NodeOptions node_options;\n",
    "  node_options.automatically_declare_parameters_from_overrides(true);\n",
    "  auto move_group_node =\n",
    "      rclcpp::Node::make_shared(\"move_group_demo\", node_options);\n",
    "\n",
    "  rclcpp::executors::SingleThreadedExecutor planner_executor;\n",
    "  std::shared_ptr<TestTrajectory> planner_node =\n",
    "      std::make_shared<TestTrajectory>(move_group_node);\n",
    "  planner_executor.add_node(planner_node);\n",
    "  planner_executor.spin();\n",
    "\n",
    "  rclcpp::shutdown();\n",
    "  return 0;\n",
    "}"
   ]
  },
  {
   "cell_type": "markdown",
   "metadata": {},
   "source": [
    "Here we are creating a ROS2 node and adding this node to a `SingleThreadedExecutor` executor. Then, we spin this executor until somebody terminates the program.\n",
    "\n",
    "You can have a deeper look at the functions provided by `MoveGroupInterface` here: http://docs.ros.org/en/noetic/api/moveit_ros_planning_interface/html/classmoveit_1_1planning__interface_1_1MoveGroupInterface.html"
   ]
  },
  {
   "cell_type": "markdown",
   "metadata": {},
   "source": [
    "### Let's create the files and launch them"
   ]
  },
  {
   "cell_type": "markdown",
   "metadata": {},
   "source": [
    "a) Inside your **ros2_ws**, create a new package named **moveit2_scripts** with some dependencies."
   ]
  },
  {
   "cell_type": "markdown",
   "metadata": {},
   "source": [
    "<span class=\"badge badge-pill badge-primary\">\n",
    "    <i class=\"fa fa-play\"></i>\n",
    "    &nbsp;\n",
    "    Execute in Shell #1\n",
    "</span>"
   ]
  },
  {
   "cell_type": "code",
   "execution_count": null,
   "metadata": {},
   "outputs": [],
   "source": [
    "source /opt/ros/foxy/setup.bash\n",
    "cd ~/ros2_ws/src\n",
    "ros2 pkg create moveit2_scripts --dependencies rclcpp rclcpp_action moveit_core moveit_ros_planning moveit_ros_planning_interface interactive_markers geometric_shapes control_msgs moveit_msgs"
   ]
  },
  {
   "cell_type": "markdown",
   "metadata": {},
   "source": [
    "Inside this package, create a new file named **test_trajectory.cpp** and copy the code you've just seen above inside this file."
   ]
  },
  {
   "cell_type": "code",
   "execution_count": null,
   "metadata": {},
   "outputs": [],
   "source": [
    "cd ~/ros2_ws/src/moveit2_scripts/src\n",
    "touch test_trajectory.cpp"
   ]
  },
  {
   "cell_type": "markdown",
   "metadata": {},
   "source": [
    "b) Inside the package, also create a launch file to launch the program, called **test_trajectory.launch.py**."
   ]
  },
  {
   "cell_type": "markdown",
   "metadata": {},
   "source": [
    "<span class=\"badge badge-pill badge-primary\">\n",
    "    <i class=\"fa fa-play\"></i>\n",
    "    &nbsp;\n",
    "    Execute in Shell #1\n",
    "</span>"
   ]
  },
  {
   "cell_type": "code",
   "execution_count": null,
   "metadata": {},
   "outputs": [],
   "source": [
    "cd ~/ros2_ws/src/moveit2_scripts\n",
    "mkdir launch\n",
    "touch launch/test_trajectory.launch.py"
   ]
  },
  {
   "cell_type": "markdown",
   "metadata": {},
   "source": [
    "Paste the code below into this launch file:"
   ]
  },
  {
   "cell_type": "markdown",
   "metadata": {},
   "source": [
    "<span class=\"badge badge-pill badge-primary\">\n",
    "    <i class=\"fa fa-file\"></i>\n",
    "    &nbsp;\n",
    "    test_trajectory.launch.py\n",
    "</span>"
   ]
  },
  {
   "cell_type": "code",
   "execution_count": null,
   "metadata": {},
   "outputs": [],
   "source": [
    "import os\n",
    "import yaml\n",
    "from launch import LaunchDescription\n",
    "from launch.actions import DeclareLaunchArgument\n",
    "from launch.substitutions import Command, FindExecutable, LaunchConfiguration, PathJoinSubstitution\n",
    "from launch_ros.actions import Node\n",
    "from launch_ros.substitutions import FindPackageShare\n",
    "from ament_index_python.packages import get_package_share_directory\n",
    "\n",
    "\n",
    "def load_file(package_name, file_path):\n",
    "    package_path = get_package_share_directory(package_name)\n",
    "    absolute_file_path = os.path.join(package_path, file_path)\n",
    "\n",
    "    try:\n",
    "        with open(absolute_file_path, \"r\") as file:\n",
    "            return file.read()\n",
    "    except EnvironmentError:  # parent of IOError, OSError *and* WindowsError where available\n",
    "        return None\n",
    "\n",
    "def load_file2(file_path):\n",
    "    \"\"\"Load the contents of a file into a string\"\"\"\n",
    "    try:\n",
    "        with open(file_path, 'r') as file:\n",
    "            return file.read()\n",
    "    except EnvironmentError: # parent of IOError, OSError *and* WindowsError where available\n",
    "        return None\n",
    "\n",
    "\n",
    "def load_yaml(package_name, file_path):\n",
    "    package_path = get_package_share_directory(package_name)\n",
    "    absolute_file_path = os.path.join(package_path, file_path)\n",
    "\n",
    "    try:\n",
    "        with open(absolute_file_path, \"r\") as file:\n",
    "            return yaml.safe_load(file)\n",
    "    except EnvironmentError:  # parent of IOError, OSError *and* WindowsError where available\n",
    "        return None\n",
    "\n",
    "def get_package_file(package, file_path):\n",
    "    \"\"\"Get the location of a file installed in an ament package\"\"\"\n",
    "    package_path = get_package_share_directory(package)\n",
    "    absolute_file_path = os.path.join(package_path, file_path)\n",
    "    return absolute_file_path\n",
    "\n",
    "\n",
    "def generate_launch_description():\n",
    "\n",
    "    declared_arguments = []\n",
    "    # UR specific arguments\n",
    "    declared_arguments.append(\n",
    "        DeclareLaunchArgument(\n",
    "            \"safety_limits\",\n",
    "            default_value=\"true\",\n",
    "            description=\"Enables the safety limits controller if true.\",\n",
    "        )\n",
    "    )\n",
    "    declared_arguments.append(\n",
    "        DeclareLaunchArgument(\n",
    "            \"safety_pos_margin\",\n",
    "            default_value=\"0.15\",\n",
    "            description=\"The margin to lower and upper limits in the safety controller.\",\n",
    "        )\n",
    "    )\n",
    "    declared_arguments.append(\n",
    "        DeclareLaunchArgument(\n",
    "            \"safety_k_position\",\n",
    "            default_value=\"20\",\n",
    "            description=\"k-position factor in the safety controller.\",\n",
    "        )\n",
    "    )\n",
    "    # General arguments\n",
    "    declared_arguments.append(\n",
    "        DeclareLaunchArgument(\n",
    "            \"description_package\",\n",
    "            default_value=\"ur_e_description\",\n",
    "            description=\"Description package with robot URDF/XACRO files. Usually the argument \\\n",
    "        is not set, it enables use of a custom description.\",\n",
    "        )\n",
    "    )\n",
    "    declared_arguments.append(\n",
    "        DeclareLaunchArgument(\n",
    "            \"description_file\",\n",
    "            default_value=\"ur3e_robot.urdf.xacro\",\n",
    "            description=\"URDF/XACRO description file with the robot.\",\n",
    "        )\n",
    "    )\n",
    "    declared_arguments.append(\n",
    "        DeclareLaunchArgument(\n",
    "            \"moveit_config_package\",\n",
    "            default_value=\"my_moveit2_config\",\n",
    "            description=\"MoveIt config package with robot SRDF/XACRO files. Usually the argument \\\n",
    "        is not set, it enables use of a custom moveit config.\",\n",
    "        )\n",
    "    )\n",
    "    declared_arguments.append(\n",
    "        DeclareLaunchArgument(\n",
    "            \"moveit_config_file\",\n",
    "            default_value=\"ur3e.srdf\",\n",
    "            description=\"MoveIt SRDF/XACRO description file with the robot.\",\n",
    "        )\n",
    "    )\n",
    "    declared_arguments.append(\n",
    "        DeclareLaunchArgument(\n",
    "            \"prefix\",\n",
    "            default_value='\"\"',\n",
    "            description=\"Prefix of the joint names, useful for \\\n",
    "        multi-robot setup. If changed than also joint names in the controllers' configuration \\\n",
    "        have to be updated.\",\n",
    "        )\n",
    "    )\n",
    "    declared_arguments.append(\n",
    "        DeclareLaunchArgument(\"launch_rviz\", default_value=\"true\", description=\"Launch RViz?\")\n",
    "    )\n",
    "\n",
    "    # Initialize Arguments\n",
    "    safety_limits = LaunchConfiguration(\"safety_limits\")\n",
    "    safety_pos_margin = LaunchConfiguration(\"safety_pos_margin\")\n",
    "    safety_k_position = LaunchConfiguration(\"safety_k_position\")\n",
    "    # General arguments\n",
    "    description_package = LaunchConfiguration(\"description_package\")\n",
    "    description_file = LaunchConfiguration(\"description_file\")\n",
    "    moveit_config_package = LaunchConfiguration(\"moveit_config_package\")\n",
    "    moveit_config_file = LaunchConfiguration(\"moveit_config_file\")\n",
    "    prefix = LaunchConfiguration(\"prefix\")\n",
    "    launch_rviz = LaunchConfiguration(\"launch_rviz\")\n",
    "\n",
    "    robot_description_content = Command(\n",
    "        [\n",
    "            PathJoinSubstitution([FindExecutable(name=\"xacro\")]),\n",
    "            \" \",\n",
    "            PathJoinSubstitution([FindPackageShare(description_package), \"urdf\", description_file]),\n",
    "            \" \",\n",
    "            \"safety_limits:=\",\n",
    "            safety_limits,\n",
    "            \" \",\n",
    "            \"safety_pos_margin:=\",\n",
    "            safety_pos_margin,\n",
    "            \" \",\n",
    "            \"safety_k_position:=\",\n",
    "            safety_k_position,\n",
    "            \" \",\n",
    "            \"name:=\",\n",
    "            # Also, ur_type parameter could be used, but then the planning group names in YAML\n",
    "            # configs have to be updated!\n",
    "            \"ur\",\n",
    "            \" \",\n",
    "            \"prefix:=\",\n",
    "            prefix,\n",
    "            \" \",\n",
    "        ]\n",
    "    )\n",
    "    robot_description = {\"robot_description\": robot_description_content}\n",
    "\n",
    "    # MoveIt Configuration\n",
    "    srdf_file = load_file('my_moveit2_config', 'config/ur3e.srdf')\n",
    "    robot_description_semantic = {\"robot_description_semantic\": srdf_file}\n",
    "\n",
    "    kinematics_yaml = load_yaml(\n",
    "        \"my_moveit2_config\", \"config/kinematics.yaml\"\n",
    "    )\n",
    "\n",
    "    # MoveGroupInterface demo executable\n",
    "    move_group_demo = Node(\n",
    "        name=\"test_trajectory\",\n",
    "        package=\"moveit2_scripts\",\n",
    "        executable=\"test_trajectory\",\n",
    "        output=\"screen\",\n",
    "        parameters=[\n",
    "            {'use_sim_time': True},\n",
    "            robot_description,\n",
    "            robot_description_semantic, \n",
    "            kinematics_yaml,\n",
    "            ],\n",
    "    )\n",
    "\n",
    "    nodes_to_start = [move_group_demo]\n",
    "\n",
    "    return LaunchDescription(declared_arguments + nodes_to_start)"
   ]
  },
  {
   "cell_type": "markdown",
   "metadata": {},
   "source": [
    "As you can see, the launch file is very similar to the one used for launching MoveIt2. You are loading the same parameters, and the only difference is that you are now launching our C++ script. Also, it's unnecessary to start RVIZ this time since you already have it running."
   ]
  },
  {
   "cell_type": "code",
   "execution_count": null,
   "metadata": {},
   "outputs": [],
   "source": [
    "move_group_demo = Node(\n",
    "    name=\"test_trajectory\",\n",
    "    package=\"moveit2_scripts\",\n",
    "    executable=\"test_trajectory\",\n",
    "    output=\"screen\",\n",
    "    parameters=[\n",
    "        {'use_sim_time': True},\n",
    "        robot_description,\n",
    "        robot_description_semantic, \n",
    "        kinematics_yaml,\n",
    "        ],\n",
    ")"
   ]
  },
  {
   "cell_type": "markdown",
   "metadata": {},
   "source": [
    "c) Now, update the **CMakeLists.txt** file to compile everything. First, open the file and add the following lines to the code:"
   ]
  },
  {
   "cell_type": "markdown",
   "metadata": {},
   "source": [
    "<span class=\"badge badge-pill badge-primary\">\n",
    "    <i class=\"fa fa-file\"></i>\n",
    "    &nbsp;\n",
    "    Add to CMakeLists.txt\n",
    "</span>"
   ]
  },
  {
   "cell_type": "code",
   "execution_count": null,
   "metadata": {},
   "outputs": [],
   "source": [
    "# Generate the executable\n",
    "add_executable(test_trajectory\n",
    "    src/test_trajectory.cpp)\n",
    "target_include_directories(test_trajectory\n",
    "    PUBLIC include)\n",
    "ament_target_dependencies(test_trajectory\n",
    "    ament_cmake\n",
    "\trclcpp\n",
    "\trclcpp_action\n",
    "\tmoveit_core\n",
    "\tmoveit_ros_planning_interface\n",
    "\tinteractive_markers\n",
    "\tmoveit_ros_planning\n",
    "\tcontrol_msgs)\n",
    "\n",
    "# Install the executable\n",
    "install(TARGETS \n",
    "\ttest_trajectory\n",
    "    DESTINATION lib/${PROJECT_NAME}\n",
    ")\n",
    "\n",
    "# Install the launch file\n",
    "install(DIRECTORY \n",
    "\tlaunch\n",
    "    DESTINATION share/${PROJECT_NAME}\n",
    ")"
   ]
  },
  {
   "cell_type": "markdown",
   "metadata": {},
   "source": [
    "You are generating an executable from the file **test_trajectory.cpp** and installing it alongside the contents of the launch folder."
   ]
  },
  {
   "cell_type": "markdown",
   "metadata": {},
   "source": [
    "d) Great! Let's now compile our workspace."
   ]
  },
  {
   "cell_type": "markdown",
   "metadata": {},
   "source": [
    "<span class=\"badge badge-pill badge-primary\">\n",
    "    <i class=\"fa fa-play\"></i>\n",
    "    &nbsp;\n",
    "    Execute in Shell #1\n",
    "</span>"
   ]
  },
  {
   "cell_type": "code",
   "execution_count": null,
   "metadata": {},
   "outputs": [],
   "source": [
    "cd ~/ros2_ws\n",
    "colcon build\n",
    "source install/setup.bash"
   ]
  },
  {
   "cell_type": "markdown",
   "metadata": {},
   "source": [
    "e) Now test your new program! First, you'll need to launch the MoveIt2 RVIZ environment."
   ]
  },
  {
   "cell_type": "markdown",
   "metadata": {},
   "source": [
    "<span class=\"badge badge-pill badge-primary\">\n",
    "    <i class=\"fa fa-play\"></i>\n",
    "    &nbsp;\n",
    "    Execute in Shell #1\n",
    "</span>"
   ]
  },
  {
   "cell_type": "code",
   "execution_count": null,
   "metadata": {},
   "outputs": [],
   "source": [
    "ros2 launch my_moveit2_config my_planning_execution.launch.py launch_rviz:=true"
   ]
  },
  {
   "cell_type": "markdown",
   "metadata": {},
   "source": [
    "f) Now, run your code:"
   ]
  },
  {
   "cell_type": "markdown",
   "metadata": {},
   "source": [
    "<span class=\"badge badge-pill badge-primary\">\n",
    "    <i class=\"fa fa-play\"></i>\n",
    "    &nbsp;\n",
    "    Execute in Shell #4\n",
    "</span>"
   ]
  },
  {
   "cell_type": "code",
   "execution_count": null,
   "metadata": {},
   "outputs": [],
   "source": [
    "source ~/ros2_ws/install/setup.bash\n",
    "ros2 launch moveit2_scripts test_trajectory.launch.py"
   ]
  },
  {
   "cell_type": "markdown",
   "metadata": {},
   "source": [
    "You will see how the plan to the **home** position is computed."
   ]
  },
  {
   "cell_type": "markdown",
   "metadata": {},
   "source": [
    "<img src=\"images/moveit2-joint-plan.gif\" width=\"600\" />"
   ]
  },
  {
   "cell_type": "markdown",
   "metadata": {},
   "source": [
    "<div class=\"bg-success text-center\">\n",
    "    - End of Exercise 1 -\n",
    "</div>"
   ]
  },
  {
   "cell_type": "markdown",
   "metadata": {},
   "source": [
    "### Executing a trajectory"
   ]
  },
  {
   "cell_type": "markdown",
   "metadata": {},
   "source": [
    "So, at this point, you've seen some methods that allow you to plan a trajectory with C++ code. But what about executing this trajectory? \n",
    "\n",
    "It's very simple. You need to call the `execute (plan)` function from the planning group to execute a trajectory. For instance, given a plan `my_plan`, you would execute the planned motion like this:"
   ]
  },
  {
   "cell_type": "code",
   "execution_count": null,
   "metadata": {},
   "outputs": [],
   "source": [
    "move_group_arm.execute(my_plan_arm);"
   ]
  },
  {
   "cell_type": "markdown",
   "metadata": {},
   "source": [
    "By executing this line of code, you will be telling your robot to **Execute** the trajectory stored in the `my_plan` variable."
   ]
  },
  {
   "cell_type": "markdown",
   "metadata": {},
   "source": [
    "Also, there's the option to **Plan & Execute** a motion, just as the GUI provides. "
   ]
  },
  {
   "cell_type": "code",
   "execution_count": null,
   "metadata": {},
   "outputs": [],
   "source": [
    "move_group_arm.move();"
   ]
  },
  {
   "cell_type": "markdown",
   "metadata": {},
   "source": [
    "<div class=\"bg-success text-center\">\n",
    "    - Exercise 2 -\n",
    "</div>"
   ]
  },
  {
   "cell_type": "markdown",
   "metadata": {},
   "source": [
    "Modify the previous code so that now, it also executes the trajectory. You should see the trajectory executed in the simulation, like shown below:"
   ]
  },
  {
   "cell_type": "markdown",
   "metadata": {},
   "source": [
    "<img src=\"images/moveit-execute.gif\" width=\"600\" />"
   ]
  },
  {
   "cell_type": "markdown",
   "metadata": {},
   "source": [
    "<div class=\"bg-success text-center\">\n",
    "    - End of Exercise 2 -\n",
    "</div>"
   ]
  },
  {
   "cell_type": "markdown",
   "metadata": {},
   "source": [
    "## Remember you can learn more about ROS2 Manipulation in our course in the Academy:"
   ]
  },
  {
   "cell_type": "markdown",
   "metadata": {},
   "source": [
    "<a href=\"https://app.theconstructsim.com/Course/81\" target=\"_blank\">ROS2 Manipulation Basics</a>"
   ]
  },
  {
   "cell_type": "markdown",
   "metadata": {},
   "source": [
    "<a href=\"https://app.theconstructsim.com/#/Course/73\" target=\"_blank\"><img src=\"images/ros2-manip.png\" width=\"\" /></a>"
   ]
  },
  {
   "cell_type": "markdown",
   "metadata": {},
   "source": [
    "# Build the future, Become a ROS DEVELOPER!"
   ]
  }
 ],
 "metadata": {
  "colab": {
   "collapsed_sections": [
    "-gXVv0x7JCVH",
    "DWJVcmhj0PAI",
    "cUYXevdcdmvz",
    "tAtKbJLddtts",
    "dHky_ri5dtqv",
    "OOVbIGbBfABL",
    "mAV21bUTlsdK"
   ],
   "name": "unit2.ipynb",
   "provenance": []
  },
  "kernelspec": {
   "display_name": "Python 2",
   "language": "python",
   "name": "python2"
  },
  "language_info": {
   "codemirror_mode": {
    "name": "ipython",
    "version": 2
   },
   "file_extension": ".py",
   "mimetype": "text/x-python",
   "name": "python",
   "nbconvert_exporter": "python",
   "pygments_lexer": "ipython2",
   "version": "2.7.16"
  }
 },
 "nbformat": 4,
 "nbformat_minor": 1
}
