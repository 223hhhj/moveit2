{
 "cells": [
  {
   "cell_type": "markdown",
   "metadata": {
    "colab_type": "text",
    "id": "VKVmOzupi70R"
   },
   "source": [
    "<img src=\"images/logos/The-Construct-logo-new.png\" width=\"700\">"
   ]
  },
  {
   "cell_type": "markdown",
   "metadata": {},
   "source": [
    "# PRESENTS..."
   ]
  },
  {
   "cell_type": "markdown",
   "metadata": {},
   "source": [
    "# ROS Developers Open Class n.175"
   ]
  },
  {
   "cell_type": "markdown",
   "metadata": {},
   "source": [
    "<img src=\"images/OpenClass175.jpeg\" width=\"650\" />"
   ]
  },
  {
   "cell_type": "markdown",
   "metadata": {},
   "source": [
    "## How to Launch the Simulation"
   ]
  },
  {
   "cell_type": "markdown",
   "metadata": {},
   "source": [
    "To start the simulation, first we'll need to source our workspace:\n",
    "\n",
    "- Open a terminal window by clicking on the shell icon on the bottom left side of your screen:\n",
    "\n",
    "<img src=\"images/shell-superapp.png\" width=\"450\" />\n",
    "\n",
    "- Copy and paste the following terminal commands in your shell:\n"
   ]
  },
  {
   "cell_type": "markdown",
   "metadata": {},
   "source": [
    "<span class=\"badge badge-pill badge-primary\">\n",
    "    <i class=\"fa fa-play\"></i>\n",
    "    &nbsp;\n",
    "    Execute in Shell\n",
    "</span>"
   ]
  },
  {
   "cell_type": "code",
   "execution_count": null,
   "metadata": {},
   "outputs": [],
   "source": [
    "ros2 launch the_construct_office_gazebo empty_ur3e.launch.xml"
   ]
  },
  {
   "cell_type": "markdown",
   "metadata": {},
   "source": [
    "<img src=\"images/ur3-sim.png\" />"
   ]
  },
  {
   "cell_type": "markdown",
   "metadata": {
    "colab_type": "text",
    "id": "VKVmOzupi70R"
   },
   "source": [
    "<div class=\"jumbotron m-0\">\n",
    "    <hr />\n",
    "    <h1 class=\"text-center\">\n",
    "        <span class=\"text-primary\">\n",
    "            Cartesian Path Planning in ROS2\n",
    "        </span>\n",
    "    </h1>\n",
    "    <hr />\n",
    "</div>"
   ]
  },
  {
   "cell_type": "markdown",
   "metadata": {},
   "source": [
    "<div>\n",
    "    <h1 class=\"text-center\">\n",
    "        <span class=\"text-primary\">1.1</span>\n",
    "        &nbsp;\n",
    "        <span class=\"\">What are Cartesian paths?</span>\n",
    "    </h1>\n",
    "</div>"
   ]
  },
  {
   "cell_type": "markdown",
   "metadata": {},
   "source": [
    "In robot manipulation, a **Cartesian path** refers to a sequence of points in 3D space that define a trajectory for the end-effector of the robot in Cartesian coordinates (x, y, z). Each point along the path represents a specific position and orientation of the end-effector. Cartesian paths are defined in the robot's workspace and are represented as a series of waypoints through which the end-effector moves smoothly.\n",
    "\n",
    "When planning a Cartesian path, the robot moves from one point to another in a straight line, following a smooth trajectory in Cartesian space. Cartesian paths are particularly useful for tasks where the end-effector needs to follow a specific trajectory, such as painting, welding, or 3D printing. They allow precise control over the end-effector's position and orientation throughout the movement, ensuring accuracy in complex tasks."
   ]
  },
  {
   "cell_type": "markdown",
   "metadata": {},
   "source": [
    "Let's set a practical example to better demonstrate this concept!"
   ]
  },
  {
   "cell_type": "markdown",
   "metadata": {},
   "source": [
    "<div>\n",
    "    <h1 class=\"text-center\">\n",
    "        <span class=\"text-primary\">1.2</span>\n",
    "        &nbsp;\n",
    "        <span class=\"\">Approach & Retreat</span>\n",
    "    </h1>\n",
    "</div>"
   ]
  },
  {
   "cell_type": "markdown",
   "metadata": {},
   "source": [
    "In manipulation, when you want to pick an object from the environment, you don't send the end-effector directly to the pose  of the object, as the gripper might end up colliding with it. Instead, you send the end-effector to a pose **near** the object. Then, you execute the **approach** motion in order to get close enoguh to the object to pick it. Once you have picked the object, you execute the **retreat** motion to go back to the previous position. \n",
    "\n",
    "The full sequence would look something like this:"
   ]
  },
  {
   "cell_type": "markdown",
   "metadata": {},
   "source": [
    "### 1. Move the arm to a pose near the object:\n",
    "\n",
    "<img src=\"images/near-object.gif\" width=\"500\" />"
   ]
  },
  {
   "cell_type": "markdown",
   "metadata": {},
   "source": [
    "### 2. Approach:\n",
    "\n",
    "<img src=\"images/approach.gif\" width=\"500\" />"
   ]
  },
  {
   "cell_type": "markdown",
   "metadata": {},
   "source": [
    "### 3. Retreat:\n",
    "\n",
    "<img src=\"images/retreat.gif\" width=\"500\" />"
   ]
  },
  {
   "cell_type": "markdown",
   "metadata": {},
   "source": [
    "Alright! So let's try to implement the **approach & retreat** sequence in the following example."
   ]
  },
  {
   "cell_type": "markdown",
   "metadata": {},
   "source": [
    "<div class=\"bg-success text-center\">\n",
    "    - Example -\n",
    "</div>"
   ]
  },
  {
   "cell_type": "markdown",
   "metadata": {},
   "source": [
    "Review the following code:"
   ]
  },
  {
   "cell_type": "markdown",
   "metadata": {},
   "source": [
    "<span class=\"badge badge-pill badge-primary\">\n",
    "    <i class=\"fa fa-play\"></i>\n",
    "    &nbsp;\n",
    "    approach_retreat.cpp\n",
    "</span>"
   ]
  },
  {
   "cell_type": "code",
   "execution_count": null,
   "metadata": {},
   "outputs": [],
   "source": [
    "#include <moveit/move_group_interface/move_group_interface.h>\n",
    "#include <moveit/planning_scene_interface/planning_scene_interface.h>\n",
    "\n",
    "#include <moveit_msgs/msg/display_robot_state.hpp>\n",
    "#include <moveit_msgs/msg/display_trajectory.hpp>\n",
    "\n",
    "static const rclcpp::Logger LOGGER = rclcpp::get_logger(\"move_group_demo\");\n",
    "\n",
    "int main(int argc, char **argv) {\n",
    "  rclcpp::init(argc, argv);\n",
    "  rclcpp::NodeOptions node_options;\n",
    "  node_options.automatically_declare_parameters_from_overrides(true);\n",
    "  auto move_group_node =\n",
    "      rclcpp::Node::make_shared(\"move_group_interface_tutorial\", node_options);\n",
    "\n",
    "  rclcpp::executors::SingleThreadedExecutor executor;\n",
    "  executor.add_node(move_group_node);\n",
    "  std::thread([&executor]() { executor.spin(); }).detach();\n",
    "\n",
    "  static const std::string PLANNING_GROUP_ARM = \"ur_manipulator\";\n",
    "\n",
    "  moveit::planning_interface::MoveGroupInterface move_group_arm(\n",
    "      move_group_node, PLANNING_GROUP_ARM);\n",
    "\n",
    "  const moveit::core::JointModelGroup *joint_model_group_arm =\n",
    "      move_group_arm.getCurrentState()->getJointModelGroup(PLANNING_GROUP_ARM);\n",
    "\n",
    "  // Get Current State\n",
    "  moveit::core::RobotStatePtr current_state_arm =\n",
    "      move_group_arm.getCurrentState(10);\n",
    "\n",
    "  std::vector<double> joint_group_positions_arm;\n",
    "  current_state_arm->copyJointGroupPositions(joint_model_group_arm,\n",
    "                                             joint_group_positions_arm);\n",
    "\n",
    "  // Go Home\n",
    "  move_group_arm.setStartStateToCurrentState();\n",
    "  RCLCPP_INFO(LOGGER, \"Going Home\");\n",
    "\n",
    "  // joint_group_positions_arm[0] = 0.00;  // Shoulder Pan\n",
    "  joint_group_positions_arm[1] = -2.50; // Shoulder Lift\n",
    "  joint_group_positions_arm[2] = 1.50;  // Elbow\n",
    "  joint_group_positions_arm[3] = -1.50; // Wrist 1\n",
    "  joint_group_positions_arm[4] = -1.55; // Wrist 2\n",
    "  // joint_group_positions_arm[5] = 0.00;  // Wrist 3\n",
    "\n",
    "  move_group_arm.setJointValueTarget(joint_group_positions_arm);\n",
    "\n",
    "  moveit::planning_interface::MoveGroupInterface::Plan my_plan_arm;\n",
    "  bool success_arm = (move_group_arm.plan(my_plan_arm) ==\n",
    "                      moveit::core::MoveItErrorCode::SUCCESS);\n",
    "\n",
    "  move_group_arm.execute(my_plan_arm);\n",
    "\n",
    "  // Pregrasp\n",
    "\n",
    "  RCLCPP_INFO(LOGGER, \"Pregrasp Position\");\n",
    "  current_state_arm = move_group_arm.getCurrentState(10);\n",
    "  current_state_arm->copyJointGroupPositions(joint_model_group_arm,\n",
    "                                             joint_group_positions_arm);\n",
    "\n",
    "  geometry_msgs::msg::Pose target_pose1;\n",
    "  target_pose1.orientation.x = -1.0;\n",
    "  target_pose1.orientation.y = 0.00;\n",
    "  target_pose1.orientation.z = 0.00;\n",
    "  target_pose1.orientation.w = 0.00;\n",
    "  target_pose1.position.x = 0.343;\n",
    "  target_pose1.position.y = 0.132;\n",
    "  target_pose1.position.z = 0.264;\n",
    "  move_group_arm.setPoseTarget(target_pose1);\n",
    "\n",
    "  success_arm = (move_group_arm.plan(my_plan_arm) ==\n",
    "                 moveit::core::MoveItErrorCode::SUCCESS);\n",
    "\n",
    "  // Execute\n",
    "  move_group_arm.execute(my_plan_arm);\n",
    "\n",
    "  // Approach\n",
    "\n",
    "  RCLCPP_INFO(LOGGER, \"Approach to object\");\n",
    "  current_state_arm = move_group_arm.getCurrentState(10);\n",
    "  current_state_arm->copyJointGroupPositions(joint_model_group_arm,\n",
    "                                             joint_group_positions_arm);\n",
    "\n",
    "  float delta = 0.04;\n",
    "  target_pose1.orientation.x = -1.0;\n",
    "  target_pose1.orientation.y = 0.00;\n",
    "  target_pose1.orientation.z = 0.00;\n",
    "  target_pose1.orientation.w = 0.00;\n",
    "  target_pose1.position.x = 0.343;\n",
    "  target_pose1.position.y = 0.132;\n",
    "  target_pose1.position.z = target_pose1.position.z - delta;\n",
    "  move_group_arm.setPoseTarget(target_pose1);\n",
    "\n",
    "  success_arm = (move_group_arm.plan(my_plan_arm) ==\n",
    "                 moveit::core::MoveItErrorCode::SUCCESS);\n",
    "\n",
    "  // Execute\n",
    "  move_group_arm.execute(my_plan_arm);\n",
    "\n",
    "  // Retreat\n",
    "\n",
    "  RCLCPP_INFO(LOGGER, \"Retreat from object\");\n",
    "  current_state_arm = move_group_arm.getCurrentState(10);\n",
    "  current_state_arm->copyJointGroupPositions(joint_model_group_arm,\n",
    "                                             joint_group_positions_arm);\n",
    "\n",
    "  target_pose1.orientation.x = -1.0;\n",
    "  target_pose1.orientation.y = 0.00;\n",
    "  target_pose1.orientation.z = 0.00;\n",
    "  target_pose1.orientation.w = 0.00;\n",
    "  target_pose1.position.x = 0.343;\n",
    "  target_pose1.position.y = 0.132;\n",
    "  target_pose1.position.z = target_pose1.position.z + delta;\n",
    "  move_group_arm.setPoseTarget(target_pose1);\n",
    "\n",
    "  success_arm = (move_group_arm.plan(my_plan_arm) ==\n",
    "                 moveit::core::MoveItErrorCode::SUCCESS);\n",
    "\n",
    "  // Execute\n",
    "  move_group_arm.execute(my_plan_arm);\n",
    "\n",
    "  rclcpp::shutdown();\n",
    "  return 0;\n",
    "}"
   ]
  },
  {
   "cell_type": "markdown",
   "metadata": {},
   "source": [
    "You can run this program with the following commands.\n",
    "\n",
    "1. First, launch the `move_group` node:"
   ]
  },
  {
   "cell_type": "markdown",
   "metadata": {},
   "source": [
    "<span class=\"badge badge-pill badge-primary\">\n",
    "    <i class=\"fa fa-play\"></i>\n",
    "    &nbsp;\n",
    "    Execute in Shell #1\n",
    "</span>"
   ]
  },
  {
   "cell_type": "code",
   "execution_count": null,
   "metadata": {},
   "outputs": [],
   "source": [
    "ros2 launch test_moveit_config move_group.launch.py"
   ]
  },
  {
   "cell_type": "markdown",
   "metadata": {},
   "source": [
    "2. Now, launch the previous code with the following command:"
   ]
  },
  {
   "cell_type": "markdown",
   "metadata": {},
   "source": [
    "<span class=\"badge badge-pill badge-primary\">\n",
    "    <i class=\"fa fa-play\"></i>\n",
    "    &nbsp;\n",
    "    Execute in Shell #1\n",
    "</span>"
   ]
  },
  {
   "cell_type": "code",
   "execution_count": null,
   "metadata": {},
   "outputs": [],
   "source": [
    "ros2 launch moveit2_scripts approach_retreat.launch.py"
   ]
  },
  {
   "cell_type": "markdown",
   "metadata": {},
   "source": [
    "Summarizing, the previous code uses the \"typical\" planning methods for solving the approach & retreat problem. So you  might be asking yourself right now.... Why is the arm performing all these complex motions when I just want it to move a little bit? And the answer is because of inverse kinematics (IK). Since you are setting a new end-effector pose, new IK solutions are computed, which result in overly complex motions.\n",
    "\n",
    "So, the next question you are surely asking yourself is... can this behavior be changed in some way? And the answer is... YES! With **Cartesian Planning**!"
   ]
  },
  {
   "cell_type": "markdown",
   "metadata": {},
   "source": [
    "Let's now have a look at the below code, that uses cartesian planning for achieveing this approach&retreat sequence."
   ]
  },
  {
   "cell_type": "markdown",
   "metadata": {},
   "source": [
    "<span class=\"badge badge-pill badge-primary\">\n",
    "    <i class=\"fa fa-play\"></i>\n",
    "    &nbsp;\n",
    "    cartesian_path.cpp\n",
    "</span>"
   ]
  },
  {
   "cell_type": "code",
   "execution_count": null,
   "metadata": {},
   "outputs": [],
   "source": [
    "#include <moveit/move_group_interface/move_group_interface.h>\n",
    "#include <moveit/planning_scene_interface/planning_scene_interface.h>\n",
    "\n",
    "#include <moveit_msgs/msg/display_robot_state.hpp>\n",
    "#include <moveit_msgs/msg/display_trajectory.hpp>\n",
    "\n",
    "static const rclcpp::Logger LOGGER = rclcpp::get_logger(\"move_group_demo\");\n",
    "\n",
    "int main(int argc, char **argv) {\n",
    "  rclcpp::init(argc, argv);\n",
    "  rclcpp::NodeOptions node_options;\n",
    "  node_options.automatically_declare_parameters_from_overrides(true);\n",
    "  auto move_group_node =\n",
    "      rclcpp::Node::make_shared(\"move_group_interface_tutorial\", node_options);\n",
    "\n",
    "  rclcpp::executors::SingleThreadedExecutor executor;\n",
    "  executor.add_node(move_group_node);\n",
    "  std::thread([&executor]() { executor.spin(); }).detach();\n",
    "\n",
    "  static const std::string PLANNING_GROUP_ARM = \"ur_manipulator\";\n",
    "\n",
    "  moveit::planning_interface::MoveGroupInterface move_group_arm(\n",
    "      move_group_node, PLANNING_GROUP_ARM);\n",
    "\n",
    "  const moveit::core::JointModelGroup *joint_model_group_arm =\n",
    "      move_group_arm.getCurrentState()->getJointModelGroup(PLANNING_GROUP_ARM);\n",
    "\n",
    "  // Get Current State\n",
    "  moveit::core::RobotStatePtr current_state_arm =\n",
    "      move_group_arm.getCurrentState(10);\n",
    "\n",
    "  std::vector<double> joint_group_positions_arm;\n",
    "  current_state_arm->copyJointGroupPositions(joint_model_group_arm,\n",
    "                                             joint_group_positions_arm);\n",
    "\n",
    "  move_group_arm.setStartStateToCurrentState();\n",
    "\n",
    "  // Go Home\n",
    "  RCLCPP_INFO(LOGGER, \"Going Home\");\n",
    "\n",
    "  // joint_group_positions_arm[0] = 0.00;  // Shoulder Pan\n",
    "  joint_group_positions_arm[1] = -2.50; // Shoulder Lift\n",
    "  joint_group_positions_arm[2] = 1.50;  // Elbow\n",
    "  joint_group_positions_arm[3] = -1.50; // Wrist 1\n",
    "  joint_group_positions_arm[4] = -1.55; // Wrist 2\n",
    "  // joint_group_positions_arm[5] = 0.00;  // Wrist 3\n",
    "\n",
    "  move_group_arm.setJointValueTarget(joint_group_positions_arm);\n",
    "\n",
    "  moveit::planning_interface::MoveGroupInterface::Plan my_plan_arm;\n",
    "  bool success_arm = (move_group_arm.plan(my_plan_arm) ==\n",
    "                      moveit::core::MoveItErrorCode::SUCCESS);\n",
    "\n",
    "  move_group_arm.execute(my_plan_arm);\n",
    "\n",
    "  // Pregrasp\n",
    "  RCLCPP_INFO(LOGGER, \"Pregrasp Position\");\n",
    "\n",
    "  geometry_msgs::msg::Pose target_pose1;\n",
    "  target_pose1.orientation.x = -1.0;\n",
    "  target_pose1.orientation.y = 0.00;\n",
    "  target_pose1.orientation.z = 0.00;\n",
    "  target_pose1.orientation.w = 0.00;\n",
    "  target_pose1.position.x = 0.343;\n",
    "  target_pose1.position.y = 0.132;\n",
    "  target_pose1.position.z = 0.264;\n",
    "  move_group_arm.setPoseTarget(target_pose1);\n",
    "\n",
    "  success_arm = (move_group_arm.plan(my_plan_arm) ==\n",
    "                 moveit::core::MoveItErrorCode::SUCCESS);\n",
    "\n",
    "  move_group_arm.execute(my_plan_arm);\n",
    "\n",
    "  // Approach\n",
    "  RCLCPP_INFO(LOGGER, \"Approach to object!\");\n",
    "\n",
    "  std::vector<geometry_msgs::msg::Pose> approach_waypoints;\n",
    "  target_pose1.position.z -= 0.03;\n",
    "  approach_waypoints.push_back(target_pose1);\n",
    "\n",
    "  target_pose1.position.z -= 0.03;\n",
    "  approach_waypoints.push_back(target_pose1);\n",
    "\n",
    "  moveit_msgs::msg::RobotTrajectory trajectory_approach;\n",
    "  const double jump_threshold = 0.0;\n",
    "  const double eef_step = 0.01;\n",
    "\n",
    "  double fraction = move_group_arm.computeCartesianPath(\n",
    "      approach_waypoints, eef_step, jump_threshold, trajectory_approach);\n",
    "\n",
    "  move_group_arm.execute(trajectory_approach);\n",
    "\n",
    "  // Retreat\n",
    "\n",
    "  RCLCPP_INFO(LOGGER, \"Retreat from object!\");\n",
    "\n",
    "  std::vector<geometry_msgs::msg::Pose> retreat_waypoints;\n",
    "  target_pose1.position.z += 0.03;\n",
    "  retreat_waypoints.push_back(target_pose1);\n",
    "\n",
    "  target_pose1.position.z += 0.03;\n",
    "  retreat_waypoints.push_back(target_pose1);\n",
    "\n",
    "  moveit_msgs::msg::RobotTrajectory trajectory_retreat;\n",
    "\n",
    "  fraction = move_group_arm.computeCartesianPath(\n",
    "      retreat_waypoints, eef_step, jump_threshold, trajectory_retreat);\n",
    "\n",
    "  move_group_arm.execute(trajectory_retreat);\n",
    "\n",
    "\n",
    "###########################\n",
    "  rclcpp::shutdown();\n",
    "  return 0;\n",
    "}"
   ]
  },
  {
   "cell_type": "markdown",
   "metadata": {},
   "source": [
    "* **`approach_waypoints`**: Contains the waypoints to be followed by the end effector\n",
    "\n",
    "* **`eef_step`**: Step size between end effector configurations of consecutive points in the result trajectory\n",
    "\n",
    "* **`trajectory_retreat`**: Resulting cartesian trajectory"
   ]
  },
  {
   "cell_type": "markdown",
   "metadata": {},
   "source": [
    "Now, to execute this program, run the following command:"
   ]
  },
  {
   "cell_type": "markdown",
   "metadata": {},
   "source": [
    "<span class=\"badge badge-pill badge-primary\">\n",
    "    <i class=\"fa fa-play\"></i>\n",
    "    &nbsp;\n",
    "    Execute in Shell #1\n",
    "</span>"
   ]
  },
  {
   "cell_type": "code",
   "execution_count": null,
   "metadata": {},
   "outputs": [],
   "source": [
    "ros2 launch moveit2_scripts cartesian_path.launch.py"
   ]
  },
  {
   "cell_type": "markdown",
   "metadata": {},
   "source": [
    "The result should look something like this:"
   ]
  },
  {
   "cell_type": "markdown",
   "metadata": {},
   "source": [
    "<img src=\"images/cartesian-path.gif\" width=\"600\" />"
   ]
  },
  {
   "cell_type": "markdown",
   "metadata": {},
   "source": [
    "<div class=\"bg-success text-center\">\n",
    "    - End of Example -\n",
    "</div>"
   ]
  },
  {
   "cell_type": "markdown",
   "metadata": {},
   "source": [
    "## Remember you can learn more about ROS2 Manipulation in our online course in the Academy:"
   ]
  },
  {
   "cell_type": "markdown",
   "metadata": {},
   "source": [
    "<a href=\"https://app.theconstructsim.com/courses/167\" target=\"_blank\">ROS2 Manipulation Basics</a>"
   ]
  },
  {
   "cell_type": "markdown",
   "metadata": {},
   "source": [
    "<a href=\"https://app.theconstructsim.com/courses/167\" target=\"_blank\"><img src=\"images/ros2-manip.png\" width=\"\" /></a>"
   ]
  },
  {
   "cell_type": "markdown",
   "metadata": {},
   "source": [
    "# Build the robots of the future, Become a ROS DEVELOPER!"
   ]
  }
 ],
 "metadata": {
  "colab": {
   "collapsed_sections": [
    "-gXVv0x7JCVH",
    "DWJVcmhj0PAI",
    "cUYXevdcdmvz",
    "tAtKbJLddtts",
    "dHky_ri5dtqv",
    "OOVbIGbBfABL",
    "mAV21bUTlsdK"
   ],
   "name": "unit2.ipynb",
   "provenance": []
  },
  "kernelspec": {
   "display_name": "Python 2",
   "language": "python",
   "name": "python2"
  },
  "language_info": {
   "codemirror_mode": {
    "name": "ipython",
    "version": 2
   },
   "file_extension": ".py",
   "mimetype": "text/x-python",
   "name": "python",
   "nbconvert_exporter": "python",
   "pygments_lexer": "ipython2",
   "version": "2.7.16"
  }
 },
 "nbformat": 4,
 "nbformat_minor": 1
}
