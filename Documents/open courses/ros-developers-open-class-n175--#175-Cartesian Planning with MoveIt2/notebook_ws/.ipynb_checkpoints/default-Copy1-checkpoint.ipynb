{
 "cells": [
  {
   "cell_type": "markdown",
   "metadata": {},
   "source": [
    "<div class=\"jumbotron m-0\">\n",
    "    <hr />\n",
    "    <h1 class=\"text-center\">\n",
    "        <span class=\"text-primary\">MasterClass 2023 / Final Project</span>\n",
    "    </h1>\n",
    "    <hr />\n",
    "</div>"
   ]
  },
  {
   "cell_type": "markdown",
   "metadata": {},
   "source": [
    "<div>\n",
    "    <h1 class=\"text-center\">\n",
    "        <span class=\"text-primary\">Coffee Dispenser</span>\n",
    "        &nbsp;\n",
    "        <span class=\"\">Final Project</span>\n",
    "    </h1>\n",
    "</div>"
   ]
  },
  {
   "cell_type": "markdown",
   "metadata": {},
   "source": [
    "<img src=\"images/starbots-ur3.jpg\" width=\"\" />"
   ]
  },
  {
   "cell_type": "markdown",
   "metadata": {},
   "source": [
    "<div class=\"bg-primary text-center\">\n",
    "    - Summary -\n",
    "</div>"
   ]
  },
  {
   "cell_type": "markdown",
   "metadata": {},
   "source": [
    "Estimated time to completion: **100 hours**\n",
    "\n",
    "In this final project, you will have to apply many of the skills learned during the MasterClass. The final goal of the project is to set up an UR3e robot arm in order to serve coffee to the cafeteria customers. For this,  you will have to complete each ofthe following tasks:\n",
    "\n",
    "\n",
    "1. Set up Moveit2 in order to control the UR3e arm\n",
    "\n",
    "\n",
    "2. Set up a Perception system so that the UR3e arm is aware of its surroundings\n",
    "\n",
    "\n",
    "3. Create a web application in order to control and monitor the whole process\n",
    "\n",
    "\n",
    "4. Containerize all the applications using Docker\n",
    "\n",
    "\n",
    "5. Write documentation about your project"
   ]
  },
  {
   "cell_type": "markdown",
   "metadata": {},
   "source": [
    "<div class=\"bg-primary text-center\">\n",
    "    - End of Summary -\n",
    "</div>"
   ]
  },
  {
   "cell_type": "markdown",
   "metadata": {},
   "source": [
    "<div>\n",
    "    <h1 class=\"text-center\">\n",
    "        <span class=\"text-primary\">0.1</span>\n",
    "        &nbsp;\n",
    "        <span class=\"\">Launch the project simulation</span>\n",
    "    </h1>\n",
    "</div>"
   ]
  },
  {
   "cell_type": "markdown",
   "metadata": {},
   "source": [
    "The first thing you have to know is how to launch the simulation. The project simulation is a representation of the real Starbots cafeteria, including a simulated UR3e robot arm, where you'll be testing your programs in the real robot."
   ]
  },
  {
   "cell_type": "markdown",
   "metadata": {},
   "source": [
    "<span class=\"badge badge-pill badge-primary\">\n",
    "    <i class=\"fa fa-play\"></i>\n",
    "    &nbsp;\n",
    "    Execute in a Shell\n",
    "</span>"
   ]
  },
  {
   "cell_type": "code",
   "execution_count": null,
   "metadata": {},
   "outputs": [],
   "source": [
    "source ~/ros2_ws/install/setup.bash\n",
    "ros2 launch the_construct_office_gazebo starbots_ur3e.launch.xml"
   ]
  },
  {
   "cell_type": "markdown",
   "metadata": {},
   "source": [
    "<div class=\"bg-danger text-center\">\n",
    "    - WARNING -\n",
    "</div>"
   ]
  },
  {
   "cell_type": "markdown",
   "metadata": {},
   "source": [
    "It might fail the first time. Just stop the launch file and relaunch it again. Second time should work.\n",
    "\n",
    "To make sure that the simulation started correctly, check the following things:\n",
    "\n",
    "1. First, make sure that the controllers have been properly loaded and started. You should see something like this in the simulation terminal:"
   ]
  },
  {
   "cell_type": "markdown",
   "metadata": {},
   "source": [
    "<pre style=\"color: white; background: black; padding:10px; font: 1.3rem Inconsolata, monospace;\">\n",
    "[spawner-5] [INFO] [1690377640.572309980] [spawner_joint_trajectory_controller]: <span style=\"color:green;\">Configured and activated joint_trajectory_controller</span>\n",
    "[spawner-4] [INFO] [1690377640.667011913] [spawner_joint_state_broadcaster]: <span style=\"color:green;\">Configured and activated joint_state_broadcaster</span>\n",
    "</pre>"
   ]
  },
  {
   "cell_type": "markdown",
   "metadata": {},
   "source": [
    "2. Second, open another terminal and make sure that you can subscribe to the joint states topic:"
   ]
  },
  {
   "cell_type": "markdown",
   "metadata": {},
   "source": [
    "<span class=\"badge badge-pill badge-primary\">\n",
    "    <i class=\"fa fa-play\"></i>\n",
    "    &nbsp;\n",
    "    Execute in Shell\n",
    "</span>"
   ]
  },
  {
   "cell_type": "code",
   "execution_count": null,
   "metadata": {},
   "outputs": [],
   "source": [
    "ros2 topic echo /joint_states"
   ]
  },
  {
   "cell_type": "markdown",
   "metadata": {},
   "source": [
    "<span class=\"badge badge-pill badge-primary\">\n",
    "    <i class=\"fa fa-window-maximize\"></i>\n",
    "    &nbsp;\n",
    "    Expected Output\n",
    "</span>"
   ]
  },
  {
   "cell_type": "code",
   "execution_count": null,
   "metadata": {},
   "outputs": [],
   "source": [
    "header:\n",
    "  stamp:\n",
    "    sec: 224\n",
    "    nanosec: 850000000\n",
    "  frame_id: ''\n",
    "name:\n",
    "- shoulder_pan_joint\n",
    "- shoulder_lift_joint\n",
    "- elbow_joint\n",
    "- wrist_1_joint\n",
    "- wrist_2_joint\n",
    "- wrist_3_joint\n",
    "position:\n",
    "- 0.0009031630529436896\n",
    "- -1.1980100154721622\n",
    "- -0.5429811672720161\n",
    "- -1.1187132844338388\n",
    "- -0.0014804719207439643\n",
    "- -0.07875967912865711\n",
    "velocity:\n",
    "- 0.9031631152267299\n",
    "- 376.3397691202882\n",
    "- -547.7487017090272\n",
    "- 453.55425432642613\n",
    "- -1.4804705046755111\n",
    "- -79.92446234506846\n",
    "effort:\n",
    "- 0.0\n",
    "- 0.0\n",
    "- 0.0\n",
    "- 0.0\n",
    "- 0.0\n",
    "- 0.0\n",
    "---"
   ]
  },
  {
   "cell_type": "markdown",
   "metadata": {},
   "source": [
    "3. Finally, check also the the trajectory action server is available:"
   ]
  },
  {
   "cell_type": "markdown",
   "metadata": {},
   "source": [
    "<span class=\"badge badge-pill badge-primary\">\n",
    "    <i class=\"fa fa-play\"></i>\n",
    "    &nbsp;\n",
    "    Execute in Shell\n",
    "</span>"
   ]
  },
  {
   "cell_type": "code",
   "execution_count": null,
   "metadata": {},
   "outputs": [],
   "source": [
    "ros2 action list"
   ]
  },
  {
   "cell_type": "markdown",
   "metadata": {},
   "source": [
    "<span class=\"badge badge-pill badge-primary\">\n",
    "    <i class=\"fa fa-window-maximize\"></i>\n",
    "    &nbsp;\n",
    "    Expected Output\n",
    "</span>"
   ]
  },
  {
   "cell_type": "code",
   "execution_count": null,
   "metadata": {},
   "outputs": [],
   "source": [
    "joint_trajectory_controller/follow_joint_trajectory"
   ]
  },
  {
   "cell_type": "markdown",
   "metadata": {},
   "source": [
    "<div class=\"bg-danger text-center\">\n",
    "    - WARNING -\n",
    "</div>"
   ]
  },
  {
   "cell_type": "markdown",
   "metadata": {},
   "source": [
    "If everything goes ok, you should get a simulation similar to this in the **Gazebo Window that will pop up**. "
   ]
  },
  {
   "cell_type": "markdown",
   "metadata": {
    "collapsed": true
   },
   "source": [
    "<img src=\"images/starbots-ur3-sim.png\"/>"
   ]
  },
  {
   "cell_type": "markdown",
   "metadata": {},
   "source": [
    "The simulation window should open after a few seconds. If it doesn't, open Gazebo by clicking on the corresponding icon on the bottom left side of your screen:\n",
    "\n",
    "<img src=\"images/rosject_toolbar_gazebo.png\"/>"
   ]
  },
  {
   "cell_type": "markdown",
   "metadata": {},
   "source": [
    "<div>\n",
    "    <h1 class=\"text-center\">\n",
    "        <span class=\"text-primary\">0.2</span>\n",
    "        &nbsp;\n",
    "        <span class=\"\">Move the arm</span>\n",
    "    </h1>\n",
    "</div>"
   ]
  },
  {
   "cell_type": "code",
   "execution_count": null,
   "metadata": {},
   "outputs": [],
   "source": []
  },
  {
   "cell_type": "markdown",
   "metadata": {},
   "source": [
    "<div>\n",
    "    <h1 class=\"text-center\">\n",
    "        <span class=\"text-primary\">0.3</span>\n",
    "        &nbsp;\n",
    "        <span class=\"\">Connect to the Real Robot</span>\n",
    "    </h1>\n",
    "</div>"
   ]
  },
  {
   "cell_type": "markdown",
   "metadata": {},
   "source": [
    "Once your program works in the simulation, you can connect to the real robot and test it there.\n",
    "\n",
    "**NOTES:**\n",
    "* Once you want to connect to the real robot, **ALL** terminals that you have will get killed, which means all nodes you have launched will need to be launched again\n",
    "* You do not need the simulation when you are using the real robot. You are in fact replacing one for the other"
   ]
  },
  {
   "cell_type": "markdown",
   "metadata": {},
   "source": [
    "1. To connect, click on the robot icon on the bottom left of your screen:"
   ]
  },
  {
   "cell_type": "markdown",
   "metadata": {},
   "source": [
    "<img src=\"images/robot_connect_icon.png\"/>"
   ]
  },
  {
   "cell_type": "markdown",
   "metadata": {},
   "source": [
    "2. Look for the robot **UR3e** and click on Connect. Wait a bit for the connection and then once the terminal icon stops spinning, you should be connected:"
   ]
  },
  {
   "cell_type": "markdown",
   "metadata": {},
   "source": [
    "<span style=\"color:red;\"> THIS HAS TO BE THE ROBOT ARM</span>"
   ]
  },
  {
   "cell_type": "markdown",
   "metadata": {},
   "source": [
    "<img src=\"images/barista_connect.png\"/>"
   ]
  },
  {
   "cell_type": "markdown",
   "metadata": {},
   "source": [
    "3. Start testing your programs!"
   ]
  },
  {
   "cell_type": "markdown",
   "metadata": {},
   "source": [
    "<div>\n",
    "    <h2 class=\"text-center\">\n",
    "        <span class=\"text-primary\">Task 1</span>\n",
    "        &nbsp;\n",
    "        <span class=\"\">Set up Moveit2</span>\n",
    "    </h2>\n",
    "</div>"
   ]
  },
  {
   "cell_type": "markdown",
   "metadata": {},
   "source": [
    "**Objective**:\n",
    "\n",
    "\n",
    "* Set up a Moveit2 package in order to control the UR3e arm.\n",
    "\n",
    "\n",
    "* The goal is that you can Plan & Execute trajectories, using Moveit2, both in the simulated and real robot arms."
   ]
  },
  {
   "cell_type": "markdown",
   "metadata": {},
   "source": [
    "**Additional Info**:\n",
    "\n",
    "\n",
    "* Why are we giving you the DH frames already? We could give you that as a task, but , there are many ways of positioning the first frame `Frame 0` and the results are slightly different. The configuration given here minimizes the number of parameters that you will need.\n",
    "* Have a look at the simulation to see how the frames are positioned if you have any doubts.\n",
    "* As you can see the `Frame 0` was placed in the same point of origin as the `Frame 1`.\n",
    "* `r_1` = 0.0\n",
    "* `r_2` = 1.0\n",
    "* `r_3` = 1.0"
   ]
  },
  {
   "cell_type": "markdown",
   "metadata": {},
   "source": [
    "<div>\n",
    "    <h2 class=\"text-center\">\n",
    "        <span class=\"text-primary\">Task 2</span>\n",
    "        &nbsp;\n",
    "        <span class=\"\">Set up Perception</span>\n",
    "    </h2>\n",
    "</div>"
   ]
  },
  {
   "cell_type": "markdown",
   "metadata": {},
   "source": [
    "<div>\n",
    "    <h2 class=\"text-center\">\n",
    "        <span class=\"text-primary\">Task 5</span>\n",
    "        &nbsp;\n",
    "        <span class=\"\">Document your project</span>\n",
    "    </h2>\n",
    "</div>"
   ]
  },
  {
   "cell_type": "markdown",
   "metadata": {},
   "source": []
  },
  {
   "cell_type": "markdown",
   "metadata": {},
   "source": []
  },
  {
   "cell_type": "markdown",
   "metadata": {},
   "source": []
  },
  {
   "cell_type": "markdown",
   "metadata": {},
   "source": []
  },
  {
   "cell_type": "markdown",
   "metadata": {},
   "source": []
  },
  {
   "cell_type": "markdown",
   "metadata": {},
   "source": []
  },
  {
   "cell_type": "markdown",
   "metadata": {},
   "source": []
  },
  {
   "cell_type": "markdown",
   "metadata": {},
   "source": []
  },
  {
   "cell_type": "markdown",
   "metadata": {},
   "source": []
  },
  {
   "cell_type": "markdown",
   "metadata": {},
   "source": []
  },
  {
   "cell_type": "markdown",
   "metadata": {},
   "source": []
  },
  {
   "cell_type": "markdown",
   "metadata": {},
   "source": []
  },
  {
   "cell_type": "markdown",
   "metadata": {},
   "source": []
  },
  {
   "cell_type": "markdown",
   "metadata": {},
   "source": []
  },
  {
   "cell_type": "markdown",
   "metadata": {},
   "source": []
  },
  {
   "cell_type": "markdown",
   "metadata": {},
   "source": []
  },
  {
   "cell_type": "markdown",
   "metadata": {},
   "source": []
  },
  {
   "cell_type": "markdown",
   "metadata": {},
   "source": []
  },
  {
   "cell_type": "markdown",
   "metadata": {},
   "source": []
  },
  {
   "cell_type": "markdown",
   "metadata": {},
   "source": []
  },
  {
   "cell_type": "markdown",
   "metadata": {},
   "source": [
    "Now is time to use the `DH paramaeters` and the `Homogeneous matrix`. For this, you will have to do the following:\n",
    "\n",
    "\n",
    "* Create a new Python script named **`fk_antropomorphic_arm.py`** that, given `theta1,2,3`, provides the `position and orientation` of the `Frame 3`.\n",
    "\n",
    "\n",
    "* The script will ask the user to introduce the values for `theta1, theta2 and theta3`.\n",
    "\n",
    "\n",
    "* The script will then return the position/orientation of the Frame 3.\n",
    "    \n",
    "    \n",
    "* Try to import the class you cretaed in `Task 1` to recycle code and do the calculations."
   ]
  },
  {
   "cell_type": "markdown",
   "metadata": {},
   "source": [
    "<div class=\"bg-info text-center\">\n",
    "    - Notes -\n",
    "</div>"
   ]
  },
  {
   "cell_type": "markdown",
   "metadata": {},
   "source": [
    "**To move the arm around, use this script**. It opens the `rqt_gui` and you can set the values of `theta1,2,3`."
   ]
  },
  {
   "cell_type": "markdown",
   "metadata": {},
   "source": [
    "<span class=\"badge badge-pill badge-primary\">\n",
    "    <i class=\"fa fa-play\"></i>\n",
    "    &nbsp;\n",
    "    Execute\n",
    "</span>"
   ]
  },
  {
   "cell_type": "raw",
   "metadata": {},
   "source": [
    "roslaunch antropomorphic_arm_control antropomorphic_arm_sim_rqt.launch "
   ]
  },
  {
   "cell_type": "markdown",
   "metadata": {},
   "source": [
    "You should get a window similar to this one:"
   ]
  },
  {
   "cell_type": "markdown",
   "metadata": {},
   "source": [
    "<img src=\"images/rqt_gui_antro.png\" width=\"800\" />"
   ]
  },
  {
   "cell_type": "markdown",
   "metadata": {},
   "source": [
    "**To check the position of Frame 3 with respect to Frame 0**, do a `rostopic echo` of the topic `/end_effector_real_pose`. "
   ]
  },
  {
   "cell_type": "markdown",
   "metadata": {},
   "source": [
    "<span class=\"badge badge-pill badge-primary\">\n",
    "    <i class=\"fa fa-play\"></i>\n",
    "    &nbsp;\n",
    "    Execute\n",
    "</span>"
   ]
  },
  {
   "cell_type": "raw",
   "metadata": {},
   "source": [
    "rostopic echo /end_effector_real_pose"
   ]
  },
  {
   "cell_type": "markdown",
   "metadata": {},
   "source": [
    "<span class=\"badge badge-pill badge-primary\">\n",
    "    <i class=\"fa fa-play\"></i>\n",
    "    &nbsp;\n",
    "    Output\n",
    "</span>"
   ]
  },
  {
   "cell_type": "markdown",
   "metadata": {},
   "source": [
    "This is the output for theta1,2,3 = 0"
   ]
  },
  {
   "cell_type": "code",
   "execution_count": null,
   "metadata": {},
   "outputs": [],
   "source": [
    "---\n",
    "x: 2.0\n",
    "y: 0.0\n",
    "z: -0.041\n",
    "---\n",
    "x: 2.0\n",
    "y: 0.0\n",
    "z: -0.041\n",
    "---\n"
   ]
  },
  {
   "cell_type": "markdown",
   "metadata": {},
   "source": [
    "<div class=\"bg-info text-center\">\n",
    "    - End of Notes -\n",
    "</div>"
   ]
  },
  {
   "cell_type": "markdown",
   "metadata": {},
   "source": [
    "<div class=\"bg-warning text-center\">\n",
    "    - Grading Guide -\n",
    "</div>"
   ]
  },
  {
   "cell_type": "markdown",
   "metadata": {},
   "source": [
    "* When you execute the **`fk_antropomorphic_arm.py`** script, the correct **position/orientation** values are generated - **2 points**"
   ]
  },
  {
   "cell_type": "code",
   "execution_count": null,
   "metadata": {},
   "outputs": [],
   "source": [
    "rosrun antropomorphic_project fk_antropomorphic_arm.py"
   ]
  },
  {
   "cell_type": "markdown",
   "metadata": {},
   "source": [
    "Test this by setting these theta values:\n",
    "\n",
    "- **theta1 = 2.356194490192345**\n",
    "- **theta2 = 0.5074842211955768**\n",
    "- **theta3 = -2.2459278597319283**"
   ]
  },
  {
   "cell_type": "markdown",
   "metadata": {},
   "source": [
    "<img src=\"images/fk_output.png\" width=\"1000\" />"
   ]
  },
  {
   "cell_type": "markdown",
   "metadata": {},
   "source": [
    "<div class=\"bg-warning text-center\">\n",
    "    - End Grading Guide -\n",
    "</div>"
   ]
  },
  {
   "cell_type": "markdown",
   "metadata": {},
   "source": [
    "<div>\n",
    "    <h2 class=\"text-center\">\n",
    "        <span class=\"text-primary\">Task 3</span>\n",
    "        &nbsp;\n",
    "        <span class=\"\">Create the Inverse Kinematics</span>\n",
    "    </h2>\n",
    "</div>"
   ]
  },
  {
   "cell_type": "markdown",
   "metadata": {},
   "source": [
    "**Objective**:\n",
    "\n",
    "\n",
    "* Solve the Inverse Kinematics problem manually, generating `three equations` that provide the values of `theta1,2,3` using as input the `Position of the Frame 3 Origin`. No orientation is required, only the position of the origin.\n",
    "\n",
    "\n",
    "* Create a new Python script, named **`ik_antropomorphic_arm.py`**, that has this equations implemeneted.\n",
    "\n",
    "\n",
    "* Take into account also that **not all possible solutions** found by the `Inverse Kinematics` are possible **IN THE REAL ROBOT**. This is because the joints `2 and 3` have `LIMITATIONS`. So not all angles are possibe. Your script has to take that also into account.\n",
    "\n",
    "\n",
    "* The limits of the joints are:\n",
    "\n",
    "$$\n",
    "\\frac{-\\pi}{4} \\geq \\theta_{2} \\leq \\frac{3*\\pi}{4}\n",
    "$$\n",
    "\n",
    "$$\n",
    "\\frac{-3*\\pi}{4} \\geq \\theta_{3} \\leq \\frac{3*\\pi}{4}\n",
    "$$\n",
    "\n",
    "\n",
    "* Check that now you can find the solution to this:\n",
    "    * The position P3=[0.5,0.6,0.7]\n",
    "    \n",
    "    \n",
    "* These are all the possible solutions, with **THREE POSSIBLE** and **ONE PHYSICALY NOT POSSIBLE**."
   ]
  },
  {
   "cell_type": "code",
   "execution_count": null,
   "metadata": {},
   "outputs": [],
   "source": [
    "Input Data===== theta_2_config CONFIG = plus\n",
    "Input Data===== theta_3_config CONFIG = plus\n",
    "Angles thetas solved =[0.8760580505981934, -0.28803689693239987, 2.037561665842193]\n",
    "\n",
    "Input Data===== theta_2_config CONFIG = plus\n",
    "Input Data===== theta_3_config CONFIG = minus\n",
    "Angles thetas solved =[0.8760580505981934, 1.7495247689097932, -2.037561665842193]\n",
    "\n",
    "Input Data===== theta_2_config CONFIG = minus\n",
    "Input Data===== theta_3_config CONFIG = plus\n",
    "Angles thetas solved =[-2.2655346029916, 1.39206788468, 2.037561665842193]\n",
    "\n",
    "Input Data===== theta_2_config CONFIG = minus\n",
    "Input Data===== theta_3_config CONFIG = minus\n",
    ">>>>>>>>>>>>>>> theta_2 NOT POSSIBLE, MIN=-0.7853981633974483, theta_2=-2.8535557566573932, MAX=2.356194490192345\n",
    "Angles thetas solved =[-2.2655346029916, -2.8535557566573932, -2.037561665842193]\n",
    "possible_solution = False\n"
   ]
  },
  {
   "cell_type": "markdown",
   "metadata": {},
   "source": [
    "* Where this `plus` and `minus` are the different `elbow down or up`."
   ]
  },
  {
   "cell_type": "markdown",
   "metadata": {},
   "source": [
    "<div class=\"bg-warning text-center\">\n",
    "    - Grading Guide -\n",
    "</div>"
   ]
  },
  {
   "cell_type": "markdown",
   "metadata": {},
   "source": [
    "* When you execute the **`ik_antropomorphic_arm.py`** script, the correct **theta** values are generated - **2 points**"
   ]
  },
  {
   "cell_type": "code",
   "execution_count": null,
   "metadata": {},
   "outputs": [],
   "source": [
    "rosrun antropomorphic_project ik_antropomorphic_arm.py"
   ]
  },
  {
   "cell_type": "markdown",
   "metadata": {},
   "source": [
    "For:\n",
    "- **The position P3=[0.5,0.6,0.7]**"
   ]
  },
  {
   "cell_type": "markdown",
   "metadata": {},
   "source": [
    "<img src=\"images/ik_output.png\" width=\"1000\" />"
   ]
  },
  {
   "cell_type": "markdown",
   "metadata": {},
   "source": [
    "<div class=\"bg-warning text-center\">\n",
    "    - End Grading Guide -\n",
    "</div>"
   ]
  },
  {
   "cell_type": "markdown",
   "metadata": {},
   "source": [
    "<div>\n",
    "    <h2 class=\"text-center\">\n",
    "        <span class=\"text-primary\">Task 4</span>\n",
    "        &nbsp;\n",
    "        <span class=\"\">Move the robot arm using Inverse Kinematics</span>\n",
    "    </h2>\n",
    "</div>"
   ]
  },
  {
   "cell_type": "markdown",
   "metadata": {},
   "source": [
    "For this Task you will have to create a script to move the robot arm around, following an elipse.\n",
    "\n",
    "\n",
    "* Instead of a simple planar elipse, it will follow a elipsoide in 3D. This given script `elipsoidal_motion.py` will manage that. You just have to launch it.\n",
    "\n",
    "\n",
    "* The markers will be spheres, not arrows, because orientation is not critical here.\n",
    "\n",
    "\n",
    "* You need to create the contents of `antropomorphic_end_effector_mover.py`, that will be in charge of:\n",
    "    * Subscribe to `/ee_pose_commands`, to recieve the points of this elipsoidal, published by the `elipsoidal_motion.py` script.\n",
    "    * Subscribe to `/end_effector_real_pose`, this is important if you want to compare the sent position with the real position reached.\n",
    "    * Create an instance of `JointMover` to be able to move the robots through its joints.\n",
    "    * Create an instance of `MarkerBasics`,to be able to publish the goal position and see how well the robot is following it.\n",
    "    \n",
    "\n",
    "* Launch RViz and add the elemenst of : **Markers,RobotModel and TFs**.\n",
    "\n",
    "\n",
    "* Fill the launch file `start_elipsoidal_motion.launch` with something like this:"
   ]
  },
  {
   "cell_type": "markdown",
   "metadata": {},
   "source": [
    "### start_elipsoidal_motion.launch"
   ]
  },
  {
   "cell_type": "code",
   "execution_count": null,
   "metadata": {},
   "outputs": [],
   "source": [
    "<launch>\n",
    "\n",
    "    <node name=\"elipsoidal_motion_node\" pkg=\"antropomorphic_project\" type=\"elipsoidal_motion.py\" respawn=\"false\"\n",
    "    output=\"screen\" args=\"\"/>\n",
    "\n",
    "    <node name=\"antropomorphic_end_effector_mover_node\" pkg=\"antropomorphic_project\" type=\"antropomorphic_end_effector_mover.py\" respawn=\"false\"\n",
    "    output=\"screen\" args=\"\"/>\n",
    "\n",
    "</launch>"
   ]
  },
  {
   "cell_type": "markdown",
   "metadata": {},
   "source": [
    "<div class=\"bg-warning text-center\">\n",
    "    - Grading Guide -\n",
    "</div>"
   ]
  },
  {
   "cell_type": "markdown",
   "metadata": {},
   "source": [
    "* When you execute the **`start_elipsoidal_motion.launch`** file, the arm properly does the expected elipsodial motion - **2 points**"
   ]
  },
  {
   "cell_type": "code",
   "execution_count": null,
   "metadata": {},
   "outputs": [],
   "source": [
    "roslaunch antropomorphic_project start_elipsoidal_motion.launch"
   ]
  },
  {
   "cell_type": "markdown",
   "metadata": {},
   "source": [
    "<img src=\"images/projantro_task4_rvi.gif\" width=\"800\" />"
   ]
  },
  {
   "cell_type": "markdown",
   "metadata": {},
   "source": [
    "<img src=\"images/projantro_task4_gazebo.gif\" width=\"800\" />"
   ]
  },
  {
   "cell_type": "markdown",
   "metadata": {},
   "source": [
    "<div class=\"bg-warning text-center\">\n",
    "    - End Grading Guide -\n",
    "</div>"
   ]
  }
 ],
 "metadata": {
  "anaconda-cloud": {},
  "kernelspec": {
   "display_name": "Python 2",
   "language": "python",
   "name": "python2"
  },
  "language_info": {
   "codemirror_mode": {
    "name": "ipython",
    "version": 2
   },
   "file_extension": ".py",
   "mimetype": "text/x-python",
   "name": "python",
   "nbconvert_exporter": "python",
   "pygments_lexer": "ipython2",
   "version": "2.7.16"
  }
 },
 "nbformat": 4,
 "nbformat_minor": 1
}
